{
 "cells": [
  {
   "cell_type": "code",
   "execution_count": 9,
   "id": "e669ad7e-b896-4727-9c8f-928e588b8991",
   "metadata": {},
   "outputs": [
    {
     "name": "stdout",
     "output_type": "stream",
     "text": [
      "Sorted first five elements in ascending order:\n",
      "[nan, 44.18648, 56.3153508557757, 56.9068102992281, 67.24795]\n"
     ]
    }
   ],
   "source": [
    "import pandas as pd\n",
    "\n",
    "file_path = \"C:/Users/DELL/Downloads/API_EN.POP.SLUM.UR.ZS_DS2_en_csv_v2_289192.csv\"\n",
    "data = pd.read_csv(file_path, skiprows=4)\n",
    "\n",
    "column_to_sort = data['2012']\n",
    "\n",
    "def bubble_sort(arr):\n",
    "    n = len(arr)\n",
    "    for i in range(min(5, n-1)):\n",
    "        for j in range(0, min(5, n-i-1)):\n",
    "            if arr[j] > arr[j+1]:\n",
    "                arr[j], arr[j+1] = arr[j+1], arr[j]\n",
    "\n",
    "values_to_sort = column_to_sort.head(5).tolist()\n",
    "\n",
    "\n",
    "bubble_sort(values_to_sort)\n",
    "\n",
    "print(\"Sorted first five elements in ascending order:\")\n",
    "print(values_to_sort)\n"
   ]
  }
 ],
 "metadata": {
  "kernelspec": {
   "display_name": "Python 3 (ipykernel)",
   "language": "python",
   "name": "python3"
  },
  "language_info": {
   "codemirror_mode": {
    "name": "ipython",
    "version": 3
   },
   "file_extension": ".py",
   "mimetype": "text/x-python",
   "name": "python",
   "nbconvert_exporter": "python",
   "pygments_lexer": "ipython3",
   "version": "3.11.9"
  }
 },
 "nbformat": 4,
 "nbformat_minor": 5
}
