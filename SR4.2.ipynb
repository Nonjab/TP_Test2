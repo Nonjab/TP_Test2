{
 "cells": [
  {
   "cell_type": "code",
   "execution_count": 4,
   "id": "464b390c-4e36-402c-91ed-f30658bedb84",
   "metadata": {},
   "outputs": [
    {
     "name": "stdout",
     "output_type": "stream",
     "text": [
      "Column Names: Index(['Country Name', 'Country Code', 'Indicator Name', 'Indicator Code',\n",
      "       '1960'],\n",
      "      dtype='object')\n",
      "Linear Search Result: 2\n",
      "Binary Search Result: -1\n"
     ]
    }
   ],
   "source": [
    "import pandas as pd\n",
    "\n",
    "file_path = \"C:/Users/DELL/Downloads/API_EN.POP.SLUM.UR.ZS_DS2_en_csv_v2_289192.csv\"\n",
    "data = pd.read_csv(file_path, skiprows=4)\n",
    "\n",
    "selected_columns = data.iloc[:, :5]\n",
    "\n",
    "print(\"Column Names:\", selected_columns.columns)\n",
    "column_to_search = selected_columns['Country Name']\n",
    "\n",
    "def linear_search(arr, target):\n",
    "    for i in range(len(arr)):\n",
    "        if arr[i] == target:\n",
    "            return i  \n",
    "    return -1  \n",
    "\n",
    "\n",
    "def binary_search(arr, target):\n",
    "    left, right = 0, len(arr) - 1\n",
    "    while left <= right:\n",
    "        mid = (left + right) // 2\n",
    "        if arr[mid] == target:\n",
    "            return mid  \n",
    "        elif arr[mid] < target:\n",
    "            left = mid + 1\n",
    "        else:\n",
    "            right = mid - 1\n",
    "    return -1  \n",
    "\n",
    "target_element = 'Afghanistan'  \n",
    "linear_result = linear_search(column_to_search, target_element)\n",
    "print(\"Linear Search Result:\", linear_result)\n",
    "binary_result = binary_search(column_to_search, target_element)\n",
    "print(\"Binary Search Result:\", binary_result)\n"
   ]
  },
  {
   "cell_type": "code",
   "execution_count": null,
   "id": "27d374b3-c9df-4dbd-ab4e-e5172c9affff",
   "metadata": {},
   "outputs": [],
   "source": []
  }
 ],
 "metadata": {
  "kernelspec": {
   "display_name": "Python 3 (ipykernel)",
   "language": "python",
   "name": "python3"
  },
  "language_info": {
   "codemirror_mode": {
    "name": "ipython",
    "version": 3
   },
   "file_extension": ".py",
   "mimetype": "text/x-python",
   "name": "python",
   "nbconvert_exporter": "python",
   "pygments_lexer": "ipython3",
   "version": "3.11.9"
  }
 },
 "nbformat": 4,
 "nbformat_minor": 5
}
